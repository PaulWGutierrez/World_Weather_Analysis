{
 "cells": [
  {
   "cell_type": "code",
   "execution_count": 1,
   "id": "2b3f9a4a",
   "metadata": {},
   "outputs": [],
   "source": [
    "# Import the random module.\n",
    "import random"
   ]
  },
  {
   "cell_type": "code",
   "execution_count": 4,
   "id": "0b5bef00",
   "metadata": {},
   "outputs": [
    {
     "data": {
      "text/plain": [
       "-30"
      ]
     },
     "execution_count": 4,
     "metadata": {},
     "output_type": "execute_result"
    }
   ],
   "source": [
    "random.randint(-90,90)"
   ]
  },
  {
   "cell_type": "code",
   "execution_count": 5,
   "id": "7bd901e8",
   "metadata": {},
   "outputs": [
    {
     "data": {
      "text/plain": [
       "0.2994445920506794"
      ]
     },
     "execution_count": 5,
     "metadata": {},
     "output_type": "execute_result"
    }
   ],
   "source": [
    "random.random()"
   ]
  },
  {
   "cell_type": "code",
   "execution_count": 8,
   "id": "9a81a48e",
   "metadata": {},
   "outputs": [
    {
     "data": {
      "text/plain": [
       "[-58.03057271967505,\n",
       " 8.587570817229958,\n",
       " 58.98605842463032,\n",
       " -8.090045810819033,\n",
       " 79.25265167037918,\n",
       " 46.661185340927716,\n",
       " 89.66548525959108,\n",
       " -10.471250902685679,\n",
       " -34.23653629982069,\n",
       " 87.94928858226712]"
      ]
     },
     "execution_count": 8,
     "metadata": {},
     "output_type": "execute_result"
    }
   ],
   "source": [
    "x = 1\n",
    "latitudes = []\n",
    "while x < 11:\n",
    "    random_lat = random.randint(-90, 89) + random.random()\n",
    "    latitudes.append(random_lat)\n",
    "    x += 1\n",
    "latitudes"
   ]
  },
  {
   "cell_type": "code",
   "execution_count": 15,
   "id": "2f40e676",
   "metadata": {},
   "outputs": [
    {
     "data": {
      "text/plain": [
       "49"
      ]
     },
     "execution_count": 15,
     "metadata": {},
     "output_type": "execute_result"
    }
   ],
   "source": [
    "random.randrange(-90, 90, step=1)"
   ]
  },
  {
   "cell_type": "code",
   "execution_count": 16,
   "id": "f95f05e4",
   "metadata": {},
   "outputs": [
    {
     "data": {
      "text/plain": [
       "66"
      ]
     },
     "execution_count": 16,
     "metadata": {},
     "output_type": "execute_result"
    }
   ],
   "source": [
    "random.randrange(-90, 90, step=3)"
   ]
  },
  {
   "cell_type": "code",
   "execution_count": 18,
   "id": "8f93a6c7",
   "metadata": {},
   "outputs": [
    {
     "data": {
      "text/plain": [
       "85.76541419163325"
      ]
     },
     "execution_count": 18,
     "metadata": {},
     "output_type": "execute_result"
    }
   ],
   "source": [
    "random.uniform(-90, 90)"
   ]
  },
  {
   "cell_type": "code",
   "execution_count": 19,
   "id": "964d890c",
   "metadata": {},
   "outputs": [],
   "source": [
    "# Import the NumPy module.\n",
    "import numpy as np"
   ]
  },
  {
   "cell_type": "code",
   "execution_count": 21,
   "id": "1638b2f9",
   "metadata": {},
   "outputs": [
    {
     "data": {
      "text/plain": [
       "89.43351084353716"
      ]
     },
     "execution_count": 21,
     "metadata": {},
     "output_type": "execute_result"
    }
   ],
   "source": [
    "np.random.uniform(-90.000, 90.000)"
   ]
  },
  {
   "cell_type": "code",
   "execution_count": 22,
   "id": "4f971213",
   "metadata": {},
   "outputs": [
    {
     "data": {
      "text/plain": [
       "array([-35.33750267,  86.89636263, -56.08276954, -24.20047064,\n",
       "       -35.80373969,  16.09552884,  38.61649281,  53.44864299,\n",
       "         2.11632996, -30.77737168,  69.47153996, -25.23207471,\n",
       "        27.92079884, -22.74591737, -88.73519304,  28.01704341,\n",
       "       -57.94567472,  39.28817293,  15.59260701,  87.87225822,\n",
       "        22.56505191, -24.92162843,   6.97754695, -66.3968675 ,\n",
       "         9.15800539,  84.99887769,  15.120625  , -77.74868888,\n",
       "        40.87500268, -35.02359039, -44.81203058, -83.20485501,\n",
       "       -78.97450949, -11.98256919,  59.94823635, -77.62541697,\n",
       "       -23.09551436,  60.03992497,  24.20502039,  19.5459103 ,\n",
       "       -82.60458247,  16.18613856,  20.56150063,  73.49522426,\n",
       "       -25.86587324,  75.52769391, -71.77054474, -37.23434091,\n",
       "       -39.33896974,  73.50381321])"
      ]
     },
     "execution_count": 22,
     "metadata": {},
     "output_type": "execute_result"
    }
   ],
   "source": [
    "np.random.uniform(-90.000, 90.000, size=50)"
   ]
  },
  {
   "cell_type": "code",
   "execution_count": 23,
   "id": "c0d15b6d",
   "metadata": {},
   "outputs": [],
   "source": [
    "# Import timeit.\n",
    "import timeit"
   ]
  },
  {
   "cell_type": "code",
   "execution_count": 27,
   "id": "3dbc2769",
   "metadata": {},
   "outputs": [
    {
     "name": "stdout",
     "output_type": "stream",
     "text": [
      "11.8 µs ± 64.4 ns per loop (mean ± std. dev. of 7 runs, 100000 loops each)\n"
     ]
    }
   ],
   "source": [
    "%timeit np.random.uniform(-90.000, 90.000, size=1500)"
   ]
  },
  {
   "cell_type": "code",
   "execution_count": 28,
   "id": "b0d58af5",
   "metadata": {},
   "outputs": [
    {
     "name": "stdout",
     "output_type": "stream",
     "text": [
      "1.17 ms ± 5.29 µs per loop (mean ± std. dev. of 7 runs, 1000 loops each)\n"
     ]
    }
   ],
   "source": [
    "def latitudes(size):\n",
    "    latitudes = []\n",
    "    x = 0\n",
    "    while x < (size):\n",
    "        random_lat = random.randint(-90, 90) + random.random()\n",
    "        latitudes.append(random_lat)\n",
    "        x += 1\n",
    "    return latitudes\n",
    "# Call the function with 1500.\n",
    "%timeit latitudes(1500)\n"
   ]
  },
  {
   "cell_type": "code",
   "execution_count": null,
   "id": "0667e835",
   "metadata": {},
   "outputs": [],
   "source": []
  }
 ],
 "metadata": {
  "kernelspec": {
   "display_name": "Python 3",
   "language": "python",
   "name": "python3"
  },
  "language_info": {
   "codemirror_mode": {
    "name": "ipython",
    "version": 3
   },
   "file_extension": ".py",
   "mimetype": "text/x-python",
   "name": "python",
   "nbconvert_exporter": "python",
   "pygments_lexer": "ipython3",
   "version": "3.8.3"
  }
 },
 "nbformat": 4,
 "nbformat_minor": 5
}
